{
  "nbformat": 4,
  "nbformat_minor": 0,
  "metadata": {
    "colab": {
      "provenance": []
    },
    "kernelspec": {
      "name": "python3",
      "display_name": "Python 3"
    },
    "language_info": {
      "name": "python"
    }
  },
  "cells": [
    {
      "cell_type": "code",
      "source": [
        "import torch\n",
        "import torchvision.models as models\n",
        "import torchvision.transforms as transforms\n",
        "from PIL import Image\n",
        "\n",
        "class ImageCaptioning:\n",
        "    def __init__(self):\n",
        "        #Load a pre-trained CNN model for future extraction\n",
        "        self.model = models.resnet50(pretrained = True)\n",
        "        self.model.eval()\n",
        "        self.transform = transforms.Compose([transforms.Resize((224,224)),transform.ToTensor()])\n",
        "\n",
        "    def predict(self,image_path):\n",
        "        image = Image.open(image_path).conver(\"RGB\")\n",
        "        image = self.transform(image).unsqueeze(0)\n",
        "        with torch.no_grad():\n",
        "         features = self.model(image)\n",
        "        return\"Generated Caption(dummy text)\"\n",
        "\n",
        "if __name__ == \"_main_\":\n",
        "    captioning = ImageCaptioning()\n",
        "    print(captioning.predict(\"image.png\"))\n"
      ],
      "metadata": {
        "id": "3wC8PCIeI1or"
      },
      "execution_count": 4,
      "outputs": []
    },
    {
      "cell_type": "code",
      "source": [],
      "metadata": {
        "id": "W0KoGyPQNWv2"
      },
      "execution_count": null,
      "outputs": []
    }
  ]
}